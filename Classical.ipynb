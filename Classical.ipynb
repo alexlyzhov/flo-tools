{
 "cells": [
  {
   "cell_type": "code",
   "execution_count": 1,
   "metadata": {
    "collapsed": true
   },
   "outputs": [],
   "source": [
    "import numpy as np\n",
    "import cv2\n",
    "import glob\n",
    "\n",
    "from load_data import load, main_data_refs\n",
    "from flow_io import write_flo"
   ]
  },
  {
   "cell_type": "code",
   "execution_count": 2,
   "metadata": {
    "collapsed": true
   },
   "outputs": [],
   "source": [
    "calculate_flow = lambda pair: cv2.calcOpticalFlowFarneback(pair[0], pair[1], pyr_scale = 0.5, levels = 3,\n",
    "                                   winsize = 15, iterations = 3, poly_n = 5, poly_sigma = 1.1, flags = 0)"
   ]
  },
  {
   "cell_type": "code",
   "execution_count": 3,
   "metadata": {
    "collapsed": true
   },
   "outputs": [],
   "source": [
    "for data_ref in main_data_refs:\n",
    "    raw_pairs, _, _, is_gray, _, flo_dir = load(*data_ref, get_dirs = True)\n",
    "    if not is_gray:\n",
    "        img_pairs = [[cv2.cvtColor(img, cv2.COLOR_RGB2GRAY) for img in pair] for pair in raw_pairs]\n",
    "    else:\n",
    "        img_pairs = raw_pairs\n",
    "        \n",
    "    flows = [calculate_flow(pair) for pair in img_pairs]\n",
    "    \n",
    "    for i, flow in enumerate(flows):\n",
    "        path = flo_dir + '/farneback_{0}.flo'.format(i + 1)\n",
    "        write_flo(flow, path)"
   ]
  }
 ],
 "metadata": {
  "kernelspec": {
   "display_name": "Python 2",
   "language": "python2",
   "name": "python2"
  },
  "language_info": {
   "codemirror_mode": {
    "name": "ipython",
    "version": 2
   },
   "file_extension": ".py",
   "mimetype": "text/x-python",
   "name": "python",
   "nbconvert_exporter": "python",
   "pygments_lexer": "ipython2",
   "version": "2.7.13"
  }
 },
 "nbformat": 4,
 "nbformat_minor": 2
}
